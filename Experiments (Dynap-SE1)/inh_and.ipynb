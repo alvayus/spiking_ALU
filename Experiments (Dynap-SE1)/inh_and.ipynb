{
 "cells": [
  {
   "attachments": {},
   "cell_type": "markdown",
   "metadata": {},
   "source": [
    "## Importing packages"
   ]
  },
  {
   "cell_type": "code",
   "execution_count": 1,
   "metadata": {},
   "outputs": [],
   "source": [
    "import sys\n",
    "sys.path.append('/home/class_NI2021/ctxctl_contrib_2023')\n",
    "import samna\n",
    "import samna.dynapse1 as dyn1\n",
    "from dynapse1constants import *\n",
    "import dynapse1utils as ut\n",
    "import netgen as n\n",
    "import params\n",
    "import time\n",
    "import math\n",
    "import numpy as np\n",
    "import matplotlib.pyplot as plt\n",
    "import matplotlib.patches as mpatches\n",
    "import pickle\n",
    "import os"
   ]
  },
  {
   "attachments": {},
   "cell_type": "markdown",
   "metadata": {},
   "source": [
    "## Looking for available devices"
   ]
  },
  {
   "cell_type": "code",
   "execution_count": 2,
   "metadata": {},
   "outputs": [
    {
     "name": "stdout",
     "output_type": "stream",
     "text": [
      "[0]:  Bus 3 Device 5 Dynapse1DevKit serial_number 00000007\n",
      "[1]:  Bus 3 Device 4 Dynapse1DevKit serial_number 00000000\n",
      "[2]:  Bus 1 Device 3 Dynapse1DevKit serial_number 00000031\n",
      "[3]:  Bus 1 Device 2 Dynapse1DevKit serial_number 00000001\n"
     ]
    }
   ],
   "source": [
    "# Checking the list of unopened devices\n",
    "devices = samna.device.get_unopened_devices()\n",
    "\n",
    "if len(devices) == 0:\n",
    "    raise Exception(\"no device detected!\")\n",
    "\n",
    "for i in range(len(devices)):\n",
    "    print(\"[\"+str(i)+\"]: \", devices[i], \"serial_number\", devices[i].serial_number)"
   ]
  },
  {
   "cell_type": "code",
   "execution_count": 3,
   "metadata": {},
   "outputs": [
    {
     "name": "stdout",
     "output_type": "stream",
     "text": [
      "ERROR: Address already in use, please re-run open_device()!\n",
      "[0]:  Bus 3 Device 5 Dynapse1DevKit serial_number 00000007\n",
      "[1]:  Bus 3 Device 4 Dynapse1DevKit serial_number 00000000\n",
      "[2]:  Bus 1 Device 3 Dynapse1DevKit serial_number 00000031\n",
      "[3]:  Bus 1 Device 2 Dynapse1DevKit serial_number 00000001\n",
      "Sender port: tcp://0.0.0.0:17654\n",
      "Receiver port: tcp://0.0.0.0:17523\n",
      "Opened device name: Dynapse1DevKit\n",
      "SamnaNode ID: 1\n",
      "PythonNode ID: 2\n",
      "0 Dynapse1Wrapper created! libcaer init...\n",
      "Clearing chip 0... DONE.\n",
      "Clearing chip 1... DONE.\n",
      "Clearing chip 2... DONE.\n",
      "Clearing chip 3... DONE.\n"
     ]
    }
   ],
   "source": [
    "# Select one device from the list\n",
    "model,no_gui = ut.open_dynapse1(gui=False, sender_port=17654, receiver_port=17523, select_device=True) # returns Dynapse1Model"
   ]
  },
  {
   "attachments": {},
   "cell_type": "markdown",
   "metadata": {},
   "source": [
    "## Experimentation\n",
    "### Cleaning parameters"
   ]
  },
  {
   "cell_type": "code",
   "execution_count": 84,
   "metadata": {},
   "outputs": [],
   "source": [
    "# silent all neurons: enforces some biases to ensure neurons are NOT firing\n",
    "paramGroup = params.gen_clean_param_group()\n",
    "for chip in range(4):\n",
    "    for core in range(4):\n",
    "        model.update_parameter_group(paramGroup, chip, core)"
   ]
  },
  {
   "attachments": {},
   "cell_type": "markdown",
   "metadata": {},
   "source": [
    "### Network design"
   ]
  },
  {
   "cell_type": "code",
   "execution_count": 19,
   "metadata": {},
   "outputs": [
    {
     "name": "stdout",
     "output_type": "stream",
     "text": [
      "Post neuron (ChipId,coreId,neuronId): incoming connections [(preNeuron,synapseType), ...]\n",
      "C0c1n1: [('C0c0s1', 'AMPA')]\n",
      "C0c1n2: [('C0c0s1', 'AMPA'), ('C0c0s2', 'GABA_B')]\n",
      "C0c1n3: [('C0c0s1', 'AMPA'), ('C0c0s3', 'GABA_B')]\n",
      "C0c1n4: [('C0c0s1', 'AMPA'), ('C0c0s4', 'GABA_B')]\n",
      "C0c1n5: [('C0c1n1', 'AMPA'), ('C0c1n2', 'GABA_B'), ('C0c1n3', 'GABA_B'), ('C0c1n4', 'GABA_B')]\n",
      "\n"
     ]
    }
   ],
   "source": [
    "api  = model.get_dynapse1_api()\n",
    "\n",
    "# ---- Parameters ----\n",
    "n_inputs = 3\n",
    "n_delay = 1\n",
    "factor = 1\n",
    "\n",
    "# ---- Spike generator ----\n",
    "spike_generator_ids = range(1, n_inputs + 2)\n",
    "spike_generators = n.NeuronGroup(0, 0, spike_generator_ids, True)  # Avoid spike generator with ID 0\n",
    "\n",
    "# ---- DPI Neurons ----\n",
    "id_ini = 1\n",
    "id_end = id_ini + n_delay\n",
    "delay_pop = n.NeuronGroup(0, 1, range(id_ini, id_end), False)\n",
    "\n",
    "id_ini = id_end\n",
    "id_end += n_inputs\n",
    "not_pop = n.NeuronGroup(0, 1, range(id_ini, id_end), False)\n",
    "\n",
    "id_ini = id_end\n",
    "id_end += 1\n",
    "nor_pop = n.NeuronGroup(0, 1, range(id_ini, id_end), False)\n",
    "\n",
    "# ---- Synapses ----\n",
    "net_gen = n.NetworkGenerator()\n",
    "\n",
    "# OP delayed\n",
    "net_gen.add_connection(spike_generators.neurons[0], delay_pop.neurons[0], dyn1.Dynapse1SynType.AMPA)\n",
    "for i in range(1, n_delay):\n",
    "    net_gen.add_connection(delay_pop.neurons[i - 1], delay_pop.neurons[i], dyn1.Dynapse1SynType.AMPA)\n",
    "\n",
    "# OP to NOT\n",
    "for i in range(n_inputs):\n",
    "    net_gen.add_connection(spike_generators.neurons[0], not_pop.neurons[i], dyn1.Dynapse1SynType.AMPA)\n",
    "\n",
    "# OP to NOR\n",
    "net_gen.add_connection(delay_pop.neurons[-1], nor_pop.neurons[0], dyn1.Dynapse1SynType.AMPA)\n",
    "\n",
    "# Inputs to NOT\n",
    "for i in range(n_inputs):\n",
    "    net_gen.add_connection(spike_generators.neurons[i + 1], not_pop.neurons[i], dyn1.Dynapse1SynType.GABA_B)\n",
    "\n",
    "# NOT to NOR\n",
    "for i in range(n_inputs):\n",
    "    net_gen.add_connection(not_pop.neurons[i], nor_pop.neurons[0], dyn1.Dynapse1SynType.GABA_B)\n",
    "\n",
    "print(net_gen.network)"
   ]
  },
  {
   "attachments": {},
   "cell_type": "markdown",
   "metadata": {},
   "source": [
    "### Applying the network configuration"
   ]
  },
  {
   "cell_type": "code",
   "execution_count": 20,
   "metadata": {},
   "outputs": [
    {
     "name": "stdout",
     "output_type": "stream",
     "text": [
      "New configuration applied to DYNAP-SE1!\n"
     ]
    }
   ],
   "source": [
    "# make a dynapse1config using the network: that is convert the validated network to a Dynapse1 configuration\n",
    "new_config = net_gen.make_dynapse1_configuration()\n",
    "\n",
    "# apply the configuration\n",
    "model.apply_configuration(new_config)"
   ]
  },
  {
   "attachments": {},
   "cell_type": "markdown",
   "metadata": {},
   "source": [
    "### Parameters"
   ]
  },
  {
   "cell_type": "code",
   "execution_count": 21,
   "metadata": {},
   "outputs": [],
   "source": [
    "# Initialize custom parameters for a core and a chip:\n",
    "paramGroup = dyn1.Dynapse1ParameterGroup() \n",
    "paramGroup.param_map[\"IF_THR_N\"].coarse_value = 7\n",
    "paramGroup.param_map[\"IF_THR_N\"].fine_value = 32\n",
    "paramGroup.param_map[\"IF_RFR_N\"].coarse_value = 7  # Inverse\n",
    "paramGroup.param_map[\"IF_RFR_N\"].fine_value = 255  # Inverse\n",
    "paramGroup.param_map[\"IF_TAU1_N\"].coarse_value = 6  # Inverse\n",
    "paramGroup.param_map[\"IF_TAU1_N\"].fine_value = 191  # Inverse\n",
    "paramGroup.param_map[\"IF_DC_P\"].coarse_value = 0\n",
    "paramGroup.param_map[\"IF_DC_P\"].fine_value = 0\n",
    "\n",
    "# Fast excitatory synapse (AMPA)\n",
    "paramGroup.param_map[\"NPDPIE_THR_F_P\"].coarse_value = 6\n",
    "paramGroup.param_map[\"NPDPIE_THR_F_P\"].fine_value =  127\n",
    "paramGroup.param_map[\"NPDPIE_TAU_F_P\"].coarse_value = 4\n",
    "paramGroup.param_map[\"NPDPIE_TAU_F_P\"].fine_value =  127\n",
    "paramGroup.param_map[\"PS_WEIGHT_EXC_F_N\"].coarse_value = 7\n",
    "paramGroup.param_map[\"PS_WEIGHT_EXC_F_N\"].fine_value = 255\n",
    "\n",
    "# Fast inhibitory synapse (GABA_B)\n",
    "paramGroup.param_map[\"NPDPII_THR_S_P\"].coarse_value = 6\n",
    "paramGroup.param_map[\"NPDPII_THR_S_P\"].fine_value =  127\n",
    "paramGroup.param_map[\"NPDPII_TAU_S_P\"].coarse_value = 4\n",
    "paramGroup.param_map[\"NPDPII_TAU_S_P\"].fine_value = 127\n",
    "paramGroup.param_map[\"PS_WEIGHT_INH_S_N\"].coarse_value = 7\n",
    "paramGroup.param_map[\"PS_WEIGHT_INH_S_N\"].fine_value = 255\n",
    "\n",
    "# Apply the custom parameters to the core\n",
    "model.update_parameter_group(paramGroup, not_pop.chip_id, not_pop.core_id)"
   ]
  },
  {
   "attachments": {},
   "cell_type": "markdown",
   "metadata": {},
   "source": [
    "### Setting up the spike generator"
   ]
  },
  {
   "cell_type": "code",
   "execution_count": 22,
   "metadata": {},
   "outputs": [
    {
     "name": "stdout",
     "output_type": "stream",
     "text": [
      "VariableIsiMode already 1\n",
      "RepeatMode already 0\n"
     ]
    }
   ],
   "source": [
    "fpga_spike_gen = model.get_fpga_spike_gen()\n",
    "\n",
    "import random\n",
    "# print(*np.sort(np.array(random.sample(op_times, 20))), sep=\", \")\n",
    "op_times = [0,  1,  2,  4,  6,  7,  8,  9, 10, 12, 13, 15, 16, 17, 18, 19, 20,\n",
    "       21, 22, 23, 24, 25, 26, 27, 28, 29, 30, 31, 33, 36, 37, 38, 40, 41,\n",
    "       42, 44, 45, 46, 48, 49]\n",
    "sg_times = [np.concatenate([np.array(op_times) / (1000 * factor) + 0.05, [0.400, 0.401]], axis=0)]\n",
    "\n",
    "in_times = []\n",
    "for i in range(n_inputs):\n",
    "    times = np.arange(20, 30)\n",
    "    times = np.sort(list(set(np.append(times, random.sample(op_times, 20)))))\n",
    "    #times = np.copy(op_times)\n",
    "    in_times.append(times)\n",
    "    sg_times.append(times / (1000 * factor) + 0.05)\n",
    "\n",
    "spike_times = np.concatenate(sg_times, axis=0)\n",
    "gen_neuron_ids = np.concatenate([[i+1] * len(sg_times[i]) for i in range(len(sg_times))], axis=0)  # Spike generator associated to the spike at that index\n",
    "spike_times, gen_neuron_ids = map(list, zip(*sorted(zip(spike_times, gen_neuron_ids), reverse=False)))\n",
    "\n",
    "post_neuron_chips = [0] * len(gen_neuron_ids)\n",
    "\n",
    "isi_base = 900\n",
    "repeat_mode = False\n",
    "ut.set_fpga_spike_gen(fpga_spike_gen, spike_times, gen_neuron_ids, post_neuron_chips, isi_base, repeat_mode)"
   ]
  },
  {
   "attachments": {},
   "cell_type": "markdown",
   "metadata": {},
   "source": [
    "### Getting spikes"
   ]
  },
  {
   "cell_type": "code",
   "execution_count": 23,
   "metadata": {},
   "outputs": [
    {
     "data": {
      "text/plain": [
       "True"
      ]
     },
     "execution_count": 23,
     "metadata": {},
     "output_type": "execute_result"
    }
   ],
   "source": [
    "monitored_neurons = np.concatenate([delay_pop.tuple_neuron_ids, not_pop.tuple_neuron_ids, nor_pop.tuple_neuron_ids], axis=0)\n",
    "graph, filter_node, sink_node = ut.create_neuron_select_graph(model, monitored_neurons)\n",
    "\n",
    "api.reset_timestamp()\n",
    "graph.start()\n",
    "sink_node.get_events()\n",
    "fpga_spike_gen.start()\n",
    "\n",
    "if(spike_times[-1] - 0.2 < 0):\n",
    "    time.sleep(spike_times[-1])\n",
    "else:\n",
    "    time.sleep(spike_times[-1] - 0.2)  # Last spike time - 0.2\n",
    "\n",
    "fpga_spike_gen.stop()\n",
    "time.sleep(0.5)\n",
    "events = sink_node.get_events()\n",
    "graph.stop()"
   ]
  },
  {
   "cell_type": "code",
   "execution_count": 24,
   "metadata": {},
   "outputs": [
    {
     "name": "stdout",
     "output_type": "stream",
     "text": [
      "[[array([0.05 , 0.051, 0.052, 0.054, 0.056, 0.057, 0.058, 0.059, 0.06 ,\n",
      "       0.062, 0.063, 0.065, 0.066, 0.067, 0.068, 0.069, 0.07 , 0.071,\n",
      "       0.072, 0.073, 0.074, 0.075, 0.076, 0.077, 0.078, 0.079, 0.08 ,\n",
      "       0.081, 0.083, 0.086, 0.087, 0.088, 0.09 , 0.091, 0.092, 0.094,\n",
      "       0.095, 0.096, 0.098, 0.099, 0.4  , 0.401]), array([0.051, 0.054, 0.06 , 0.062, 0.065, 0.066, 0.068, 0.069, 0.07 ,\n",
      "       0.071, 0.072, 0.073, 0.074, 0.075, 0.076, 0.077, 0.078, 0.079,\n",
      "       0.08 , 0.086, 0.088, 0.091, 0.092, 0.094, 0.098]), array([0.051, 0.056, 0.058, 0.059, 0.065, 0.066, 0.067, 0.069, 0.07 ,\n",
      "       0.071, 0.072, 0.073, 0.074, 0.075, 0.076, 0.077, 0.078, 0.079,\n",
      "       0.083, 0.087, 0.091, 0.092, 0.094, 0.095, 0.096, 0.099]), array([0.056, 0.057, 0.058, 0.06 , 0.066, 0.067, 0.068, 0.069, 0.07 ,\n",
      "       0.071, 0.072, 0.073, 0.074, 0.075, 0.076, 0.077, 0.078, 0.079,\n",
      "       0.08 , 0.081, 0.088, 0.092, 0.094, 0.098, 0.099])], array([[0.050373, 4.      ],\n",
      "       [0.050381, 1.      ],\n",
      "       [0.050383, 2.      ],\n",
      "       [0.050387, 3.      ],\n",
      "       [0.051373, 4.      ],\n",
      "       [0.051382, 1.      ],\n",
      "       [0.052373, 4.      ],\n",
      "       [0.052382, 1.      ],\n",
      "       [0.052384, 2.      ],\n",
      "       [0.052388, 3.      ],\n",
      "       [0.054373, 4.      ],\n",
      "       [0.054382, 1.      ],\n",
      "       [0.054388, 3.      ],\n",
      "       [0.056382, 1.      ],\n",
      "       [0.056384, 2.      ],\n",
      "       [0.057382, 1.      ],\n",
      "       [0.057385, 2.      ],\n",
      "       [0.057389, 3.      ],\n",
      "       [0.058383, 1.      ],\n",
      "       [0.058385, 2.      ],\n",
      "       [0.059375, 4.      ],\n",
      "       [0.059383, 1.      ],\n",
      "       [0.059386, 2.      ],\n",
      "       [0.060384, 1.      ],\n",
      "       [0.06039 , 3.      ],\n",
      "       [0.062376, 4.      ],\n",
      "       [0.062384, 1.      ],\n",
      "       [0.062391, 3.      ],\n",
      "       [0.063376, 4.      ],\n",
      "       [0.063384, 1.      ],\n",
      "       [0.063387, 2.      ],\n",
      "       [0.063391, 3.      ],\n",
      "       [0.065376, 4.      ],\n",
      "       [0.065385, 1.      ],\n",
      "       [0.066385, 1.      ],\n",
      "       [0.066459, 5.      ],\n",
      "       [0.067386, 1.      ],\n",
      "       [0.067389, 2.      ],\n",
      "       [0.068387, 1.      ],\n",
      "       [0.068393, 3.      ],\n",
      "       [0.069387, 1.      ],\n",
      "       [0.069461, 5.      ],\n",
      "       [0.070388, 1.      ],\n",
      "       [0.070462, 5.      ],\n",
      "       [0.071389, 1.      ],\n",
      "       [0.071463, 5.      ],\n",
      "       [0.07239 , 1.      ],\n",
      "       [0.072464, 5.      ],\n",
      "       [0.073391, 1.      ],\n",
      "       [0.073465, 5.      ],\n",
      "       [0.074391, 1.      ],\n",
      "       [0.074466, 5.      ],\n",
      "       [0.075392, 1.      ],\n",
      "       [0.075466, 5.      ],\n",
      "       [0.076393, 1.      ],\n",
      "       [0.076467, 5.      ],\n",
      "       [0.077394, 1.      ],\n",
      "       [0.077468, 5.      ],\n",
      "       [0.078395, 1.      ],\n",
      "       [0.078469, 5.      ],\n",
      "       [0.079396, 1.      ],\n",
      "       [0.07947 , 5.      ],\n",
      "       [0.080396, 1.      ],\n",
      "       [0.080402, 3.      ],\n",
      "       [0.081396, 1.      ],\n",
      "       [0.081399, 2.      ],\n",
      "       [0.081402, 3.      ],\n",
      "       [0.083388, 4.      ],\n",
      "       [0.083397, 1.      ],\n",
      "       [0.0834  , 2.      ],\n",
      "       [0.086388, 4.      ],\n",
      "       [0.086397, 1.      ],\n",
      "       [0.086403, 3.      ],\n",
      "       [0.087389, 4.      ],\n",
      "       [0.087397, 1.      ],\n",
      "       [0.0874  , 2.      ],\n",
      "       [0.088398, 1.      ],\n",
      "       [0.088404, 3.      ],\n",
      "       [0.09039 , 4.      ],\n",
      "       [0.090398, 1.      ],\n",
      "       [0.090401, 2.      ],\n",
      "       [0.090404, 3.      ],\n",
      "       [0.09139 , 4.      ],\n",
      "       [0.091398, 1.      ],\n",
      "       [0.092399, 1.      ],\n",
      "       [0.092474, 5.      ],\n",
      "       [0.0944  , 1.      ],\n",
      "       [0.094474, 5.      ],\n",
      "       [0.095392, 4.      ],\n",
      "       [0.0954  , 1.      ],\n",
      "       [0.095403, 2.      ],\n",
      "       [0.096392, 4.      ],\n",
      "       [0.096401, 1.      ],\n",
      "       [0.096403, 2.      ],\n",
      "       [0.098401, 1.      ],\n",
      "       [0.098407, 3.      ],\n",
      "       [0.099402, 1.      ],\n",
      "       [0.099405, 2.      ],\n",
      "       [0.400394, 4.      ],\n",
      "       [0.400402, 1.      ],\n",
      "       [0.400404, 2.      ],\n",
      "       [0.400408, 3.      ]])]\n"
     ]
    }
   ],
   "source": [
    "evts_n = np.array([[evt.timestamp / 10**6 + spike_times[0], evt.neuron_id] for evt in events])\n",
    "\n",
    "save_array = [sg_times, evts_n]\n",
    "test_name = \"inh_and_\" + str(n_inputs) + \"inputs_factor\" + str(factor)\n",
    "\n",
    "cwd = os.getcwd()\n",
    "if not os.path.exists(cwd + \"/experiments/\"):\n",
    "    os.mkdir(cwd + \"/experiments/\")\n",
    "\n",
    "i = 1\n",
    "while os.path.exists(cwd + \"/experiments/\" + test_name + \"_\" + str(i) + \".pickle\"):\n",
    "    i += 1\n",
    "\n",
    "filename = test_name + \"_\" + str(i)\n",
    "\n",
    "with open(\"experiments/\" + filename + '.pickle', 'wb') as handle:\n",
    "    pickle.dump(save_array, handle, protocol=pickle.HIGHEST_PROTOCOL)\n",
    "with open(\"experiments/\" + filename + '.pickle', \"rb\") as handle:\n",
    "    print(pickle.load(handle))"
   ]
  },
  {
   "cell_type": "code",
   "execution_count": 25,
   "metadata": {},
   "outputs": [
    {
     "data": {
      "image/png": "[encoded data removed]",
      "text/plain": [
       "<Figure size 3600x1440 with 1 Axes>"
      ]
     },
     "metadata": {},
     "output_type": "display_data"
    }
   ],
   "source": [
    "plt.rcParams['figure.dpi'] = 400\n",
    "plt.rcParams['figure.figsize'] = [9, 1.8 + 1.8 / 3 * n_inputs]\n",
    "\n",
    "plt.plot(sg_times[0], [1] * len(sg_times[0]), color='tab:blue', linestyle = 'None', marker='|', markersize=7)\n",
    "for i in range(1, n_inputs + 1):\n",
    "    plt.plot(sg_times[i], [i+1] * len(sg_times[i]), color='tab:orange', linestyle = 'None', marker='|', markersize=7)\n",
    "plt.xlabel('Simulation time (s)')\n",
    "plt.yticks(range(1, n_inputs + 3))\n",
    "plt.gca().set_yticklabels([\"OP\"] + [\"Input \" + str(i) for i in range(1, n_inputs + 1)] + [\"Output\"])\n",
    "plt.ylabel(\"Neurons\")\n",
    "plt.xlim([0.05 - 0.005 / factor, sg_times[0][-3] + 0.005 / factor])\n",
    "plt.ylim([0, n_inputs + 3])\n",
    "\n",
    "evts_nor = np.array([[evt.timestamp / 10**6 + spike_times[0], evt.neuron_id] for evt in events if evt.neuron_id in nor_pop.neuron_ids])\n",
    "if len(evts_nor) == 0:\n",
    "    print(\"Output spikes were not detected\")\n",
    "else:\n",
    "    plt.plot(evts_nor[:,0], [n_inputs + 2] * len(evts_nor[:,0]), color='tab:green', linestyle = 'None', marker='|', markersize=7)\n",
    "\n",
    "evts_not = np.array([[evt.timestamp / 10**6 + spike_times[0], evt.neuron_id] for evt in events if evt.neuron_id in not_pop.neuron_ids])\n",
    "if len(evts_not) == 0:\n",
    "    print(\"NOT spikes were not detected\")\n",
    "else:\n",
    "    plt.plot(evts_not[:,0], n_inputs + 1 + evts_not[:,1], color='tab:red', linestyle = 'None', marker='|', markersize=7)\n",
    "\n",
    "plt.tight_layout()\n",
    "\n",
    "plt.savefig(\"experiments/\" + filename + '.png', transparent=False, facecolor='white', edgecolor='black')"
   ]
  },
  {
   "cell_type": "code",
   "execution_count": 92,
   "metadata": {},
   "outputs": [
    {
     "name": "stdout",
     "output_type": "stream",
     "text": [
      "[[ 0.101017  7.      ]\n",
      " [ 0.101021 21.      ]\n",
      " [ 0.101024  4.      ]\n",
      " [ 0.101025 19.      ]\n",
      " [ 0.101026 15.      ]\n",
      " [ 0.101027 29.      ]\n",
      " [ 0.101027 18.      ]\n",
      " [ 0.101028 23.      ]\n",
      " [ 0.101029  8.      ]\n",
      " [ 0.10103  20.      ]\n",
      " [ 0.101033 17.      ]\n",
      " [ 0.101033  3.      ]\n",
      " [ 0.101034 25.      ]\n",
      " [ 0.101034 30.      ]\n",
      " [ 0.101034 13.      ]\n",
      " [ 0.101034  5.      ]\n",
      " [ 0.101035 14.      ]\n",
      " [ 0.101035  6.      ]\n",
      " [ 0.101035 22.      ]\n",
      " [ 0.101036 16.      ]\n",
      " [ 0.101036 31.      ]\n",
      " [ 0.101037  2.      ]\n",
      " [ 0.101038 11.      ]\n",
      " [ 0.101039 12.      ]\n",
      " [ 0.10104  26.      ]\n",
      " [ 0.10104  24.      ]\n",
      " [ 0.101041 28.      ]\n",
      " [ 0.101042 10.      ]\n",
      " [ 0.101047  9.      ]\n",
      " [ 0.101048 27.      ]\n",
      " [ 0.152338  7.      ]\n",
      " [ 0.152342 21.      ]\n",
      " [ 0.152346  4.      ]\n",
      " [ 0.152347 19.      ]\n",
      " [ 0.152348 15.      ]\n",
      " [ 0.152348 29.      ]\n",
      " [ 0.152348 18.      ]\n",
      " [ 0.152349 23.      ]\n",
      " [ 0.152351  8.      ]\n",
      " [ 0.152352 20.      ]\n",
      " [ 0.152354  3.      ]\n",
      " [ 0.152355 17.      ]\n",
      " [ 0.152355 30.      ]\n",
      " [ 0.152355 25.      ]\n",
      " [ 0.152355 13.      ]\n",
      " [ 0.152356  5.      ]\n",
      " [ 0.152356 22.      ]\n",
      " [ 0.152356 14.      ]\n",
      " [ 0.152357  6.      ]\n",
      " [ 0.152358 16.      ]\n",
      " [ 0.152358 31.      ]\n",
      " [ 0.152359  2.      ]\n",
      " [ 0.15236  11.      ]\n",
      " [ 0.15236  12.      ]\n",
      " [ 0.152362 26.      ]\n",
      " [ 0.152362 24.      ]\n",
      " [ 0.152363 28.      ]\n",
      " [ 0.152363 10.      ]\n",
      " [ 0.152369  9.      ]\n",
      " [ 0.15237  27.      ]\n",
      " [ 0.153338  7.      ]\n",
      " [ 0.153342 21.      ]\n",
      " [ 0.153345  4.      ]\n",
      " [ 0.153347 19.      ]\n",
      " [ 0.153348 15.      ]\n",
      " [ 0.153348 29.      ]\n",
      " [ 0.153348 18.      ]\n",
      " [ 0.153349 23.      ]\n",
      " [ 0.153351  8.      ]\n",
      " [ 0.153351 20.      ]\n",
      " [ 0.153354 17.      ]\n",
      " [ 0.153355  3.      ]\n",
      " [ 0.153355 25.      ]\n",
      " [ 0.153355 30.      ]\n",
      " [ 0.153355 13.      ]\n",
      " [ 0.153356  5.      ]\n",
      " [ 0.153356 22.      ]\n",
      " [ 0.153356 14.      ]\n",
      " [ 0.153356  6.      ]\n",
      " [ 0.153357 16.      ]\n",
      " [ 0.153357 31.      ]\n",
      " [ 0.153359  2.      ]\n",
      " [ 0.15336  11.      ]\n",
      " [ 0.15336  12.      ]\n",
      " [ 0.153361 26.      ]\n",
      " [ 0.153362 24.      ]\n",
      " [ 0.153363 28.      ]\n",
      " [ 0.153363 10.      ]\n",
      " [ 0.153369  9.      ]\n",
      " [ 0.15337  27.      ]]\n"
     ]
    }
   ],
   "source": [
    "print(evts_not)"
   ]
  },
  {
   "cell_type": "markdown",
   "metadata": {},
   "source": [
    "### Comparing Spikes"
   ]
  },
  {
   "cell_type": "code",
   "execution_count": 30,
   "metadata": {},
   "outputs": [
    {
     "ename": "IndexError",
     "evalue": "too many indices for array: array is 1-dimensional, but 2 were indexed",
     "output_type": "error",
     "traceback": [
      "\u001b[0;31m---------------------------------------------------------------------------\u001b[0m",
      "\u001b[0;31mIndexError\u001b[0m                                Traceback (most recent call last)",
      "Cell \u001b[0;32mIn[30], line 5\u001b[0m\n\u001b[1;32m      2\u001b[0m \u001b[38;5;28;01mfor\u001b[39;00m i \u001b[38;5;129;01min\u001b[39;00m \u001b[38;5;28mrange\u001b[39m(n_inputs):\n\u001b[1;32m      3\u001b[0m     intersection \u001b[38;5;241m=\u001b[39m np\u001b[38;5;241m.\u001b[39mintersect1d(intersection, sg_times[i \u001b[38;5;241m+\u001b[39m \u001b[38;5;241m1\u001b[39m])\n\u001b[0;32m----> 5\u001b[0m \u001b[38;5;28;01mif\u001b[39;00m \u001b[38;5;28mlen\u001b[39m(\u001b[43mevts_nor\u001b[49m\u001b[43m[\u001b[49m\u001b[43m:\u001b[49m\u001b[43m,\u001b[49m\u001b[38;5;241;43m0\u001b[39;49m\u001b[43m]\u001b[49m) \u001b[38;5;241m==\u001b[39m \u001b[38;5;28mlen\u001b[39m(intersection):\n\u001b[1;32m      6\u001b[0m     \u001b[38;5;28mprint\u001b[39m(\u001b[38;5;124m\"\u001b[39m\u001b[38;5;124mOK!\u001b[39m\u001b[38;5;124m\"\u001b[39m)\n",
      "\u001b[0;31mIndexError\u001b[0m: too many indices for array: array is 1-dimensional, but 2 were indexed"
     ]
    }
   ],
   "source": [
    "intersection = sg_times[0]\n",
    "for i in range(n_inputs):\n",
    "    intersection = np.intersect1d(intersection, sg_times[i + 1])\n",
    "\n",
    "if len(evts_nor[:,0]) == len(intersection):\n",
    "    print(\"OK!\")"
   ]
  },
  {
   "attachments": {},
   "cell_type": "markdown",
   "metadata": {},
   "source": [
    "## Close the device"
   ]
  },
  {
   "cell_type": "code",
   "execution_count": 93,
   "metadata": {},
   "outputs": [],
   "source": [
    "# remeber to close the device\n",
    "samna.device.close_device(model)"
   ]
  }
 ],
 "metadata": {
  "kernelspec": {
   "display_name": "Python 3",
   "language": "python",
   "name": "python3"
  },
  "language_info": {
   "codemirror_mode": {
    "name": "ipython",
    "version": 3
   },
   "file_extension": ".py",
   "mimetype": "text/x-python",
   "name": "python",
   "nbconvert_exporter": "python",
   "pygments_lexer": "ipython3",
   "version": "3.8.10"
  },
  "orig_nbformat": 4
 },
 "nbformat": 4,
 "nbformat_minor": 2
}
